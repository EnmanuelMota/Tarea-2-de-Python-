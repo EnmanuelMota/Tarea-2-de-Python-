{
 "cells": [
  {
   "cell_type": "markdown",
   "id": "6c05ebda",
   "metadata": {},
   "source": [
    "<img src= \"https://static.wixstatic.com/media/40aa5a_86ac32e4ed4144b2862b93fec039f190~mv2_d_2276_1400_s_2.png/v1/fill/w_1600,h_984,al_c,q_90/file.jpg\"   \n",
    "style=\"float:right\" width=\"220\">\n",
    " <h1 style=\"font-size:3rem;color:bold;\">Introducción a la Ciencia de Datos</h1> \n",
    "\n",
    "### Enmanuel Rafael Mota Nuñez\n"
   ]
  },
  {
   "cell_type": "markdown",
   "id": "3c73c4bd",
   "metadata": {},
   "source": [
    "###  Programa de la Asignatura: "
   ]
  },
  {
   "cell_type": "markdown",
   "id": "b3dcf0e0",
   "metadata": {},
   "source": [
    "### Tema I. Introducción a los conceptos básicos de la Ciencia de Datos\n",
    "\n",
    "    A. Conceptualización de la ciencia de datos y sus orígenes.\n",
    "    B. Epiciclos del análisis de datos.\n",
    "    C. Tipos de problemas de la ciencia de datos. \n",
    "    D. Herramientas Computacionales y Lenguajes de Datos. "
   ]
  },
  {
   "cell_type": "markdown",
   "id": "523c57b9",
   "metadata": {},
   "source": [
    "### Tema II. Introducción al lenguaje de programación R y Python\n",
    "    A. Orígenes y características. \n",
    "    B. Workflows scripts. \n",
    "    C. Operaciones matemáaticas. \n",
    "    D. Operaciones de control. \n",
    "    E. Funciones. \n",
    "    F. Paquetes. "
   ]
  },
  {
   "cell_type": "markdown",
   "id": "39a458c1",
   "metadata": {},
   "source": [
    "### Tema III. Análisis exploratorio y visualización de los datos\n",
    "    A. Objetivos del análisis exporatorio (EDA por sus siglas en inglés).\n",
    "    B. Pasos para el desarrollo de un EDA. \n",
    "    C. Gramática de los gráficos en R. \n",
    "    D. Los sistemas Lattice y ggplot2 de R. \n",
    "    E. Tipos de gráficos y su utilidad. \n",
    "    F. Análisis univariado, bivariado y multivariado. "
   ]
  },
  {
   "cell_type": "markdown",
   "id": "06b7d40c",
   "metadata": {},
   "source": [
    "### Tema IV. Procesamiento de los datos\n",
    "    A. Limpieza de datos. \n",
    "    B. Selección y filtrado de datos. \n",
    "    C. Valores faltantes, atípicos e imputación de datos. \n",
    "    D. Transformación de los datos. "
   ]
  },
  {
   "cell_type": "markdown",
   "id": "3d7af706",
   "metadata": {},
   "source": [
    "### Tema V. Conceptos básicos de la modelización \n",
    "    A. Inferencia versus predicción.\n",
    "    B. Análisis de regresión.\n",
    "    C. Modelos de data mining y machine learning. "
   ]
  },
  {
   "cell_type": "markdown",
   "id": "b3d0941f",
   "metadata": {},
   "source": [
    "### Tema VI. Análisis de regresión \n",
    "\n",
    "    A. Modelo de regresión lineal simple. \n",
    "    B. Modelo de regresión lineal múltiple. \n",
    "    C. Diagnóstico del modelo. "
   ]
  },
  {
   "cell_type": "markdown",
   "id": "fff11205",
   "metadata": {},
   "source": [
    "### Tema VII. Introducción a Machine Learning\n",
    "\n",
    "    A. Conceptos básicos de Machine Learning. \n",
    "    B. Construcción y entrenamiento de un modelo de ML. \n",
    "    C. Evaluación del desempeño del modelo. \n",
    "    D. \"Overfiting\" y precisión del modelo. \n",
    "    E. Ajuste del modelo. \n",
    "    F. Interpretación de los resultados. "
   ]
  }
 ],
 "metadata": {
  "kernelspec": {
   "display_name": "Python 3 (ipykernel)",
   "language": "python",
   "name": "python3"
  },
  "language_info": {
   "codemirror_mode": {
    "name": "ipython",
    "version": 3
   },
   "file_extension": ".py",
   "mimetype": "text/x-python",
   "name": "python",
   "nbconvert_exporter": "python",
   "pygments_lexer": "ipython3",
   "version": "3.11.5"
  }
 },
 "nbformat": 4,
 "nbformat_minor": 5
}
